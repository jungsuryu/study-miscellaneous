{
 "cells": [
  {
   "cell_type": "markdown",
   "id": "ee0f9992",
   "metadata": {},
   "source": [
    "### social network analysis"
   ]
  },
  {
   "cell_type": "code",
   "execution_count": 1,
   "id": "2f7257db",
   "metadata": {},
   "outputs": [],
   "source": [
    "import networkx as nx"
   ]
  },
  {
   "cell_type": "code",
   "execution_count": 2,
   "id": "9dc248a7",
   "metadata": {},
   "outputs": [],
   "source": [
    "# 네트워크 시각화 위해서\n",
    "import matplotlib.pyplot as plt"
   ]
  },
  {
   "cell_type": "code",
   "execution_count": 3,
   "id": "4f5912fb",
   "metadata": {},
   "outputs": [],
   "source": [
    "# create an empty network\n",
    "g = nx.Graph()"
   ]
  },
  {
   "cell_type": "code",
   "execution_count": 4,
   "id": "92675c8b",
   "metadata": {},
   "outputs": [],
   "source": [
    "# add nodes (이름 정보 사용)\n",
    "\n",
    "# g.add_node(1) # 한 번에 하나의 노드만 추가\n",
    "g.add_nodes_from([1, 2, 3, 4, 5, 6]) # 한 번에 여러 개의 노드 추가, 인자로 이름 가지고 있는 sequence형 전달"
   ]
  },
  {
   "cell_type": "code",
   "execution_count": 5,
   "id": "561d2bc1",
   "metadata": {
    "scrolled": true
   },
   "outputs": [
    {
     "data": {
      "text/plain": [
       "NodeView((1, 2, 3, 4, 5, 6))"
      ]
     },
     "execution_count": 5,
     "metadata": {},
     "output_type": "execute_result"
    }
   ],
   "source": [
    "g.nodes()"
   ]
  },
  {
   "cell_type": "code",
   "execution_count": 6,
   "id": "4b8a14e7",
   "metadata": {},
   "outputs": [
    {
     "data": {
      "text/plain": [
       "EdgeView([])"
      ]
     },
     "execution_count": 6,
     "metadata": {},
     "output_type": "execute_result"
    }
   ],
   "source": [
    "g.edges()"
   ]
  },
  {
   "cell_type": "code",
   "execution_count": 7,
   "id": "5c6e1087",
   "metadata": {},
   "outputs": [],
   "source": [
    "# add edges\n",
    "# g.add_edge(1, 3)\n",
    "g.add_edges_from([(1, 3), (2, 4), (2, 5), (2, 6), (3, 4), (4, 6), (5, 6)])"
   ]
  },
  {
   "cell_type": "code",
   "execution_count": 8,
   "id": "b2d5e957",
   "metadata": {},
   "outputs": [
    {
     "name": "stdout",
     "output_type": "stream",
     "text": [
      "[1, 2, 3, 4, 5, 6]\n",
      "[(1, 3), (2, 4), (2, 5), (2, 6), (3, 4), (4, 6), (5, 6)]\n"
     ]
    }
   ],
   "source": [
    "print(g.nodes())\n",
    "print(g.edges())"
   ]
  },
  {
   "cell_type": "code",
   "execution_count": 9,
   "id": "7041e65e",
   "metadata": {},
   "outputs": [
    {
     "name": "stdout",
     "output_type": "stream",
     "text": [
      "7\n",
      "6\n"
     ]
    }
   ],
   "source": [
    "# basic calculations\n",
    "print(g.number_of_edges())\n",
    "print(g.number_of_nodes())"
   ]
  },
  {
   "cell_type": "markdown",
   "id": "3830bd7e",
   "metadata": {},
   "source": [
    "graph는 사전형태라고 생각해도 됨"
   ]
  },
  {
   "cell_type": "code",
   "execution_count": 10,
   "id": "1ae6fd7f",
   "metadata": {},
   "outputs": [
    {
     "data": {
      "text/plain": [
       "AtlasView({2: {}, 6: {}})"
      ]
     },
     "execution_count": 10,
     "metadata": {},
     "output_type": "execute_result"
    }
   ],
   "source": [
    "g[5] # 5번 노드와 연결되어 있는 다른 노드 확인"
   ]
  },
  {
   "cell_type": "code",
   "execution_count": 11,
   "id": "a96cfe33",
   "metadata": {},
   "outputs": [
    {
     "data": {
      "image/png": "[encoded data removed]",
      "text/plain": [
       "<Figure size 432x288 with 1 Axes>"
      ]
     },
     "metadata": {},
     "output_type": "display_data"
    }
   ],
   "source": [
    "# networkX를 이용해서 시각화 하기\n",
    "nx.draw_networkx(g)\n",
    "plt.show()"
   ]
  },
  {
   "cell_type": "markdown",
   "id": "6022e3b2",
   "metadata": {},
   "source": [
    "matplotlib으로 시각화는 어려움  \n",
    "그래서 시각화에 다른 툴 사용"
   ]
  },
  {
   "cell_type": "code",
   "execution_count": 12,
   "id": "6e2a6018",
   "metadata": {},
   "outputs": [],
   "source": [
    "# graphML 파일로 저장하기 -> Gephi에서 불러오기\n",
    "nx.write_graphml(g, 'test.graphml')"
   ]
  },
  {
   "cell_type": "code",
   "execution_count": 13,
   "id": "33b90050",
   "metadata": {},
   "outputs": [
    {
     "name": "stdout",
     "output_type": "stream",
     "text": [
      "{1: 'male', 2: 'female', 3: 'male', 4: 'female', 5: 'male', 6: 'male'}\n"
     ]
    }
   ],
   "source": [
    "# Add node attributes (노드 속성 추가)\n",
    "g.nodes[1]['gender'] = 'male'\n",
    "g.nodes[2]['gender'] = 'female'\n",
    "g.nodes[3]['gender'] = 'male'\n",
    "g.nodes[4]['gender'] = 'female'\n",
    "g.nodes[5]['gender'] = 'male'\n",
    "g.nodes[6]['gender'] = 'male'\n",
    "print(nx.get_node_attributes(g, 'gender')) # 사전의 형태로 return "
   ]
  },
  {
   "cell_type": "code",
   "execution_count": 15,
   "id": "3c958d62",
   "metadata": {},
   "outputs": [
    {
     "name": "stdout",
     "output_type": "stream",
     "text": [
      "{(1, 3): 3, (2, 4): 1, (2, 5): 4, (2, 6): 3, (3, 4): 2, (4, 6): 3, (5, 6): 4}\n"
     ]
    }
   ],
   "source": [
    "# Add edge attributes\n",
    "g[1][3]['weight'] = 3\n",
    "# alternatively\n",
    "# g.edges[1, 3]['weight'] = 3\n",
    "g[2][4]['weight'] = 1\n",
    "g[2][5]['weight'] = 4\n",
    "g[2][6]['weight'] = 3\n",
    "g[3][4]['weight'] = 2\n",
    "g[4][6]['weight'] = 3\n",
    "g[5][6]['weight'] = 4\n",
    "\n",
    "print(nx.get_edge_attributes(g, 'weight'))"
   ]
  },
  {
   "cell_type": "code",
   "execution_count": 16,
   "id": "03d3cdc7",
   "metadata": {},
   "outputs": [
    {
     "data": {
      "text/plain": [
       "AtlasView({2: {'weight': 1}, 3: {'weight': 2}, 6: {'weight': 3}})"
      ]
     },
     "execution_count": 16,
     "metadata": {},
     "output_type": "execute_result"
    }
   ],
   "source": [
    "g[4]"
   ]
  },
  {
   "cell_type": "code",
   "execution_count": 17,
   "id": "d00deccc",
   "metadata": {},
   "outputs": [],
   "source": [
    "# graphML 파일로 저장하기 -> Gephi에서 불러오기\n",
    "nx.write_graphml(g, 'test1.graphml')"
   ]
  }
 ],
 "metadata": {
  "kernelspec": {
   "display_name": "Python 3 (ipykernel)",
   "language": "python",
   "name": "python3"
  },
  "language_info": {
   "codemirror_mode": {
    "name": "ipython",
    "version": 3
   },
   "file_extension": ".py",
   "mimetype": "text/x-python",
   "name": "python",
   "nbconvert_exporter": "python",
   "pygments_lexer": "ipython3",
   "version": "3.9.7"
  }
 },
 "nbformat": 4,
 "nbformat_minor": 5
}
